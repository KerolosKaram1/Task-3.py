{
  "nbformat": 4,
  "nbformat_minor": 0,
  "metadata": {
    "colab": {
      "provenance": []
    },
    "kernelspec": {
      "name": "python3",
      "display_name": "Python 3"
    },
    "language_info": {
      "name": "python"
    }
  },
  "cells": [
    {
      "cell_type": "code",
      "source": [
        "import random"
      ],
      "metadata": {
        "id": "kfJhDbnEt9eN"
      },
      "execution_count": 4,
      "outputs": []
    },
    {
      "cell_type": "code",
      "execution_count": 87,
      "metadata": {
        "colab": {
          "base_uri": "https://localhost:8080/"
        },
        "id": "HFVqQe5Io2-N",
        "outputId": "c9ffa402-cf05-41bd-f065-aa1c0c9bfb41"
      },
      "outputs": [
        {
          "output_type": "stream",
          "name": "stdout",
          "text": [
            "Enter your choice: paper\n",
            "robot choice: paper\n",
            "draw!\n"
          ]
        }
      ],
      "source": [
        "\n",
        "user= input(\"Enter your choice: \")\n",
        "\n",
        "game =[\"paper\",\"rock\",\"scissor\"]\n",
        "robot = random.choice(game)\n",
        "print(\"robot choice: \"+robot)\n",
        "\n",
        "if user ==robot:\n",
        "  print (\"draw!\")\n",
        "elif user==\"rock\" and robot ==\"paper\":\n",
        "  print (\"robot wins!\")\n",
        "\n",
        "elif user==\"paper\" and robot ==\"rock\":\n",
        "  print (\"user win!\")\n",
        "\n",
        "elif user==\"rock\" and robot ==\"scissor\":\n",
        "  print (\"user win!\")\n",
        "\n",
        "elif user==\"scissor\" and robot ==\"rock\":\n",
        "  print (\"robot wins!\")\n",
        "\n",
        "elif user==\"scissor\" and robot ==\"paper\":\n",
        "  print (\"user win!\")\n",
        "\n",
        "elif user==\"paper\" and robot ==\"scissor\":\n",
        "  print (\"robot wins!\")\n"
      ]
    }
  ]
}